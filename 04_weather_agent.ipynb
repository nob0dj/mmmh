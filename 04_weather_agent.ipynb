{
 "cells": [
  {
   "cell_type": "markdown",
   "id": "0f915d4d",
   "metadata": {},
   "source": [
    "# 04. Weather Agent 실습 노트북\n",
    "이 노트북에서는 OpenWeather API를 활용하여 현재 지역의 날씨 정보를 가져오는 Weather Agent의 동작을 실습합니다.\n",
    "\n",
    "LangGraph 내에서는 음식 및 활동 추천 시 조건을 구성하는 중요한 컨텍스트입니다.\n",
    "\n",
    "## OpenWeather API 사용 주의사항\n",
    "- 도시명, 국가코드 형식의 입력이 가장 정확하다.\n",
    "- 사용자의 입력된 지명을 이 형식으로 변환하는 프롬프트가 선행되어야 한다.\n",
    "\n",
    "<img src=\"https://d.pr/i/UDF0Rb+\" width=\"500px\">\n",
    "\n",
    "**샘플 프롬프트**\n",
    "```md\n",
    "도시 이름을 한글로 제공하면, city's name, comma, 2-letter country code (ISO3166) 기준으로 변환해줘.\n",
    "\n",
    "## Input to output\n",
    "- 서울 -> Seoul, KR\n",
    "- 부산 -> Seoul, KR\n",
    "\n",
    "## 주의사항\n",
    "- 시가 아닌 지명이 입력되었다면, 소속된 시로 변경해줘.\n",
    "**예시**\n",
    "- 홍대 ->  Anui, KR\n",
    "- 안의 -> Hamyang, KR\n",
    "\n",
    "## Question\n",
    "- 두정\n",
    "```"
   ]
  },
  {
   "cell_type": "markdown",
   "id": "f42af6ee",
   "metadata": {},
   "source": [
    "## 📦 1. 라이브러리 및 모듈 불러오기"
   ]
  },
  {
   "cell_type": "code",
   "execution_count": 1,
   "id": "7096fed4",
   "metadata": {},
   "outputs": [],
   "source": [
    "# 날씨 정보를 불러오는 Weather Agent 함수\n",
    "from agents.weather import get_weather"
   ]
  },
  {
   "cell_type": "markdown",
   "id": "7798ca9e",
   "metadata": {},
   "source": [
    "## ✍️ 2. 샘플 입력 구성"
   ]
  },
  {
   "cell_type": "code",
   "execution_count": 2,
   "id": "6bfd53a3",
   "metadata": {},
   "outputs": [],
   "source": [
    "# 지역 정보가 포함된 상태 구성 (현재는 'Seoul'로 고정되어 있음)\n",
    "state = {\n",
    "    \"location\": \"홍대\"  # 내부적으로 'Seoul'로 요청됩니다.\n",
    "}"
   ]
  },
  {
   "cell_type": "markdown",
   "id": "ae89a981",
   "metadata": {},
   "source": [
    "## 🌦 3. 날씨 정보 가져오기"
   ]
  },
  {
   "cell_type": "code",
   "execution_count": 3,
   "id": "4bee221b",
   "metadata": {},
   "outputs": [
    {
     "name": "stdout",
     "output_type": "stream",
     "text": [
      ">>> OpenWeather API 호출 시작 (서울 기준)\n",
      "날씨 상태: Clouds\n"
     ]
    }
   ],
   "source": [
    "# OpenWeather API를 호출하여 날씨 정보를 받아옵니다.\n",
    "result = get_weather(state)\n",
    "print(\"날씨 상태:\", result.get(\"weather\"))"
   ]
  },
  {
   "cell_type": "markdown",
   "id": "0552591c",
   "metadata": {},
   "source": [
    "## ℹ️ 참고 사항\n",
    "- 날씨는 OpenWeather에서 가져오며, `weather_main` 값을 사용합니다 (예: Clear, Rain, Snow 등)\n",
    "- 실제 요청은 기본 설정된 'Seoul'에 대해 수행되며, 향후 확장을 위해 location별 좌표 기반 API도 사용할 수 있습니다."
   ]
  }
 ],
 "metadata": {
  "kernelspec": {
   "display_name": "langgraph_prj_env",
   "language": "python",
   "name": "python3"
  },
  "language_info": {
   "codemirror_mode": {
    "name": "ipython",
    "version": 3
   },
   "file_extension": ".py",
   "mimetype": "text/x-python",
   "name": "python",
   "nbconvert_exporter": "python",
   "pygments_lexer": "ipython3",
   "version": "3.12.10"
  }
 },
 "nbformat": 4,
 "nbformat_minor": 5
}
